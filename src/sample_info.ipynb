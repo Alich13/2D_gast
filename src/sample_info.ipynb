{
 "cells": [
  {
   "cell_type": "code",
   "execution_count": null,
   "metadata": {},
   "outputs": [
    {
     "ename": "",
     "evalue": "",
     "output_type": "error",
     "traceback": [
      "\u001b[1;31mRunning cells with 'Python 3.13.0' requires the ipykernel package.\n",
      "\u001b[1;31mRun the following command to install 'ipykernel' into the Python environment. \n",
      "\u001b[1;31mCommand: '/opt/homebrew/bin/python3 -m pip install ipykernel -U --user --force-reinstall'"
     ]
    }
   ],
   "source": [
    "import pandas as pd"
   ]
  },
  {
   "cell_type": "code",
   "execution_count": null,
   "metadata": {},
   "outputs": [
    {
     "data": {
      "text/html": [
       "<div>\n",
       "<style scoped>\n",
       "    .dataframe tbody tr th:only-of-type {\n",
       "        vertical-align: middle;\n",
       "    }\n",
       "\n",
       "    .dataframe tbody tr th {\n",
       "        vertical-align: top;\n",
       "    }\n",
       "\n",
       "    .dataframe thead th {\n",
       "        text-align: right;\n",
       "    }\n",
       "</style>\n",
       "<table border=\"1\" class=\"dataframe\">\n",
       "  <thead>\n",
       "    <tr style=\"text-align: right;\">\n",
       "      <th></th>\n",
       "      <th>cell</th>\n",
       "      <th>time</th>\n",
       "      <th>condition</th>\n",
       "      <th>plate</th>\n",
       "    </tr>\n",
       "  </thead>\n",
       "  <tbody>\n",
       "    <tr>\n",
       "      <th>0</th>\n",
       "      <td>D1439T001</td>\n",
       "      <td>t35</td>\n",
       "      <td>WNT</td>\n",
       "      <td>D1439T</td>\n",
       "    </tr>\n",
       "    <tr>\n",
       "      <th>1</th>\n",
       "      <td>D1439T002</td>\n",
       "      <td>t35</td>\n",
       "      <td>WNT</td>\n",
       "      <td>D1439T</td>\n",
       "    </tr>\n",
       "    <tr>\n",
       "      <th>2</th>\n",
       "      <td>D1439T003</td>\n",
       "      <td>t35</td>\n",
       "      <td>WNT</td>\n",
       "      <td>D1439T</td>\n",
       "    </tr>\n",
       "    <tr>\n",
       "      <th>3</th>\n",
       "      <td>D1439T004</td>\n",
       "      <td>t35</td>\n",
       "      <td>WNT</td>\n",
       "      <td>D1439T</td>\n",
       "    </tr>\n",
       "    <tr>\n",
       "      <th>4</th>\n",
       "      <td>D1439T005</td>\n",
       "      <td>t35</td>\n",
       "      <td>WNT</td>\n",
       "      <td>D1439T</td>\n",
       "    </tr>\n",
       "    <tr>\n",
       "      <th>...</th>\n",
       "      <td>...</td>\n",
       "      <td>...</td>\n",
       "      <td>...</td>\n",
       "      <td>...</td>\n",
       "    </tr>\n",
       "    <tr>\n",
       "      <th>1147</th>\n",
       "      <td>D1478T764</td>\n",
       "      <td>t37</td>\n",
       "      <td>BMP</td>\n",
       "      <td>D1478T</td>\n",
       "    </tr>\n",
       "    <tr>\n",
       "      <th>1148</th>\n",
       "      <td>D1478T765</td>\n",
       "      <td>t37</td>\n",
       "      <td>MM468</td>\n",
       "      <td>D1478T</td>\n",
       "    </tr>\n",
       "    <tr>\n",
       "      <th>1149</th>\n",
       "      <td>D1478T766</td>\n",
       "      <td>t37</td>\n",
       "      <td>MM468</td>\n",
       "      <td>D1478T</td>\n",
       "    </tr>\n",
       "    <tr>\n",
       "      <th>1150</th>\n",
       "      <td>D1478T767</td>\n",
       "      <td>t37</td>\n",
       "      <td>MM468</td>\n",
       "      <td>D1478T</td>\n",
       "    </tr>\n",
       "    <tr>\n",
       "      <th>1151</th>\n",
       "      <td>D1478T768</td>\n",
       "      <td>t37</td>\n",
       "      <td>Neg</td>\n",
       "      <td>D1478T</td>\n",
       "    </tr>\n",
       "  </tbody>\n",
       "</table>\n",
       "<p>1152 rows × 4 columns</p>\n",
       "</div>"
      ],
      "text/plain": [
       "           cell time condition   plate\n",
       "0     D1439T001  t35       WNT  D1439T\n",
       "1     D1439T002  t35       WNT  D1439T\n",
       "2     D1439T003  t35       WNT  D1439T\n",
       "3     D1439T004  t35       WNT  D1439T\n",
       "4     D1439T005  t35       WNT  D1439T\n",
       "...         ...  ...       ...     ...\n",
       "1147  D1478T764  t37       BMP  D1478T\n",
       "1148  D1478T765  t37     MM468  D1478T\n",
       "1149  D1478T766  t37     MM468  D1478T\n",
       "1150  D1478T767  t37     MM468  D1478T\n",
       "1151  D1478T768  t37       Neg  D1478T\n",
       "\n",
       "[1152 rows x 4 columns]"
      ]
     },
     "execution_count": 11,
     "metadata": {},
     "output_type": "execute_result"
    }
   ],
   "source": [
    "sample_information_path=\"/Users/alichemkhi/Desktop/myProjects/2D_gast/data/2dgas-fs/raw_data/sample_information.tsv\"\n",
    "sample_information_df=pd.read_csv(sample_information_path,sep=\"\\t\")\n",
    "sample_information_df.columns=[\"cell\",\"time\",\"condition\"]\n",
    "sample_information_df[\"plate\"]=sample_information_df[\"cell\"].map(lambda x : x[0:6])\n",
    "sample_information_df"
   ]
  },
  {
   "cell_type": "code",
   "execution_count": null,
   "metadata": {},
   "outputs": [
    {
     "data": {
      "text/plain": [
       "plate\n",
       "D1478T    768\n",
       "D1439T    384\n",
       "Name: count, dtype: int64"
      ]
     },
     "execution_count": 13,
     "metadata": {},
     "output_type": "execute_result"
    }
   ],
   "source": [
    "# plate distribution \n",
    "sample_information_df[\"plate\"].value_counts()"
   ]
  },
  {
   "cell_type": "markdown",
   "metadata": {},
   "source": [
    "# plate 1"
   ]
  },
  {
   "cell_type": "code",
   "execution_count": null,
   "metadata": {},
   "outputs": [
    {
     "data": {
      "text/plain": [
       "''"
      ]
     },
     "metadata": {},
     "output_type": "display_data"
    },
    {
     "data": {
      "text/html": [
       "<div>\n",
       "<style scoped>\n",
       "    .dataframe tbody tr th:only-of-type {\n",
       "        vertical-align: middle;\n",
       "    }\n",
       "\n",
       "    .dataframe tbody tr th {\n",
       "        vertical-align: top;\n",
       "    }\n",
       "\n",
       "    .dataframe thead th {\n",
       "        text-align: right;\n",
       "    }\n",
       "</style>\n",
       "<table border=\"1\" class=\"dataframe\">\n",
       "  <thead>\n",
       "    <tr style=\"text-align: right;\">\n",
       "      <th></th>\n",
       "      <th>cell</th>\n",
       "      <th>time</th>\n",
       "      <th>condition</th>\n",
       "      <th>plate</th>\n",
       "    </tr>\n",
       "  </thead>\n",
       "  <tbody>\n",
       "    <tr>\n",
       "      <th>0</th>\n",
       "      <td>D1439T001</td>\n",
       "      <td>t35</td>\n",
       "      <td>WNT</td>\n",
       "      <td>D1439T</td>\n",
       "    </tr>\n",
       "    <tr>\n",
       "      <th>1</th>\n",
       "      <td>D1439T002</td>\n",
       "      <td>t35</td>\n",
       "      <td>WNT</td>\n",
       "      <td>D1439T</td>\n",
       "    </tr>\n",
       "    <tr>\n",
       "      <th>2</th>\n",
       "      <td>D1439T003</td>\n",
       "      <td>t35</td>\n",
       "      <td>WNT</td>\n",
       "      <td>D1439T</td>\n",
       "    </tr>\n",
       "    <tr>\n",
       "      <th>3</th>\n",
       "      <td>D1439T004</td>\n",
       "      <td>t35</td>\n",
       "      <td>WNT</td>\n",
       "      <td>D1439T</td>\n",
       "    </tr>\n",
       "    <tr>\n",
       "      <th>4</th>\n",
       "      <td>D1439T005</td>\n",
       "      <td>t35</td>\n",
       "      <td>WNT</td>\n",
       "      <td>D1439T</td>\n",
       "    </tr>\n",
       "    <tr>\n",
       "      <th>...</th>\n",
       "      <td>...</td>\n",
       "      <td>...</td>\n",
       "      <td>...</td>\n",
       "      <td>...</td>\n",
       "    </tr>\n",
       "    <tr>\n",
       "      <th>379</th>\n",
       "      <td>D1439T380</td>\n",
       "      <td>t35</td>\n",
       "      <td>BMP</td>\n",
       "      <td>D1439T</td>\n",
       "    </tr>\n",
       "    <tr>\n",
       "      <th>380</th>\n",
       "      <td>D1439T381</td>\n",
       "      <td>t35</td>\n",
       "      <td>MM468</td>\n",
       "      <td>D1439T</td>\n",
       "    </tr>\n",
       "    <tr>\n",
       "      <th>381</th>\n",
       "      <td>D1439T382</td>\n",
       "      <td>t35</td>\n",
       "      <td>MM468</td>\n",
       "      <td>D1439T</td>\n",
       "    </tr>\n",
       "    <tr>\n",
       "      <th>382</th>\n",
       "      <td>D1439T383</td>\n",
       "      <td>t35</td>\n",
       "      <td>MM468</td>\n",
       "      <td>D1439T</td>\n",
       "    </tr>\n",
       "    <tr>\n",
       "      <th>383</th>\n",
       "      <td>D1439T384</td>\n",
       "      <td>t35</td>\n",
       "      <td>Neg</td>\n",
       "      <td>D1439T</td>\n",
       "    </tr>\n",
       "  </tbody>\n",
       "</table>\n",
       "<p>384 rows × 4 columns</p>\n",
       "</div>"
      ],
      "text/plain": [
       "          cell time condition   plate\n",
       "0    D1439T001  t35       WNT  D1439T\n",
       "1    D1439T002  t35       WNT  D1439T\n",
       "2    D1439T003  t35       WNT  D1439T\n",
       "3    D1439T004  t35       WNT  D1439T\n",
       "4    D1439T005  t35       WNT  D1439T\n",
       "..         ...  ...       ...     ...\n",
       "379  D1439T380  t35       BMP  D1439T\n",
       "380  D1439T381  t35     MM468  D1439T\n",
       "381  D1439T382  t35     MM468  D1439T\n",
       "382  D1439T383  t35     MM468  D1439T\n",
       "383  D1439T384  t35       Neg  D1439T\n",
       "\n",
       "[384 rows x 4 columns]"
      ]
     },
     "metadata": {},
     "output_type": "display_data"
    },
    {
     "data": {
      "text/plain": [
       "'condition dist'"
      ]
     },
     "metadata": {},
     "output_type": "display_data"
    },
    {
     "data": {
      "text/plain": [
       "condition\n",
       "WNT      192\n",
       "BMP      188\n",
       "MM468      3\n",
       "Neg        1\n",
       "Name: count, dtype: int64"
      ]
     },
     "metadata": {},
     "output_type": "display_data"
    },
    {
     "data": {
      "text/plain": [
       "'time dit      '"
      ]
     },
     "metadata": {},
     "output_type": "display_data"
    },
    {
     "data": {
      "text/plain": [
       "time\n",
       "t35    384\n",
       "Name: count, dtype: int64"
      ]
     },
     "metadata": {},
     "output_type": "display_data"
    }
   ],
   "source": [
    "sample_information_1_df=sample_information_df[sample_information_df[\"plate\"]==\"D1439T\"]\n",
    "display(\"\",sample_information_1_df)\n",
    "display(\"condition dist\",sample_information_1_df[\"condition\"].value_counts())\n",
    "display(\"time dit      \",sample_information_1_df[\"time\"].value_counts())\n"
   ]
  },
  {
   "cell_type": "markdown",
   "metadata": {},
   "source": [
    "# plate 2 and 3 "
   ]
  },
  {
   "cell_type": "code",
   "execution_count": null,
   "metadata": {},
   "outputs": [
    {
     "data": {
      "text/plain": [
       "''"
      ]
     },
     "metadata": {},
     "output_type": "display_data"
    },
    {
     "data": {
      "text/html": [
       "<div>\n",
       "<style scoped>\n",
       "    .dataframe tbody tr th:only-of-type {\n",
       "        vertical-align: middle;\n",
       "    }\n",
       "\n",
       "    .dataframe tbody tr th {\n",
       "        vertical-align: top;\n",
       "    }\n",
       "\n",
       "    .dataframe thead th {\n",
       "        text-align: right;\n",
       "    }\n",
       "</style>\n",
       "<table border=\"1\" class=\"dataframe\">\n",
       "  <thead>\n",
       "    <tr style=\"text-align: right;\">\n",
       "      <th></th>\n",
       "      <th>cell</th>\n",
       "      <th>time</th>\n",
       "      <th>condition</th>\n",
       "      <th>plate</th>\n",
       "    </tr>\n",
       "  </thead>\n",
       "  <tbody>\n",
       "    <tr>\n",
       "      <th>384</th>\n",
       "      <td>D1478T001</td>\n",
       "      <td>t36</td>\n",
       "      <td>WNT</td>\n",
       "      <td>D1478T</td>\n",
       "    </tr>\n",
       "    <tr>\n",
       "      <th>385</th>\n",
       "      <td>D1478T002</td>\n",
       "      <td>t36</td>\n",
       "      <td>WNT</td>\n",
       "      <td>D1478T</td>\n",
       "    </tr>\n",
       "    <tr>\n",
       "      <th>386</th>\n",
       "      <td>D1478T003</td>\n",
       "      <td>t36</td>\n",
       "      <td>WNT</td>\n",
       "      <td>D1478T</td>\n",
       "    </tr>\n",
       "    <tr>\n",
       "      <th>387</th>\n",
       "      <td>D1478T004</td>\n",
       "      <td>t36</td>\n",
       "      <td>WNT</td>\n",
       "      <td>D1478T</td>\n",
       "    </tr>\n",
       "    <tr>\n",
       "      <th>388</th>\n",
       "      <td>D1478T005</td>\n",
       "      <td>t36</td>\n",
       "      <td>WNT</td>\n",
       "      <td>D1478T</td>\n",
       "    </tr>\n",
       "    <tr>\n",
       "      <th>...</th>\n",
       "      <td>...</td>\n",
       "      <td>...</td>\n",
       "      <td>...</td>\n",
       "      <td>...</td>\n",
       "    </tr>\n",
       "    <tr>\n",
       "      <th>1147</th>\n",
       "      <td>D1478T764</td>\n",
       "      <td>t37</td>\n",
       "      <td>BMP</td>\n",
       "      <td>D1478T</td>\n",
       "    </tr>\n",
       "    <tr>\n",
       "      <th>1148</th>\n",
       "      <td>D1478T765</td>\n",
       "      <td>t37</td>\n",
       "      <td>MM468</td>\n",
       "      <td>D1478T</td>\n",
       "    </tr>\n",
       "    <tr>\n",
       "      <th>1149</th>\n",
       "      <td>D1478T766</td>\n",
       "      <td>t37</td>\n",
       "      <td>MM468</td>\n",
       "      <td>D1478T</td>\n",
       "    </tr>\n",
       "    <tr>\n",
       "      <th>1150</th>\n",
       "      <td>D1478T767</td>\n",
       "      <td>t37</td>\n",
       "      <td>MM468</td>\n",
       "      <td>D1478T</td>\n",
       "    </tr>\n",
       "    <tr>\n",
       "      <th>1151</th>\n",
       "      <td>D1478T768</td>\n",
       "      <td>t37</td>\n",
       "      <td>Neg</td>\n",
       "      <td>D1478T</td>\n",
       "    </tr>\n",
       "  </tbody>\n",
       "</table>\n",
       "<p>768 rows × 4 columns</p>\n",
       "</div>"
      ],
      "text/plain": [
       "           cell time condition   plate\n",
       "384   D1478T001  t36       WNT  D1478T\n",
       "385   D1478T002  t36       WNT  D1478T\n",
       "386   D1478T003  t36       WNT  D1478T\n",
       "387   D1478T004  t36       WNT  D1478T\n",
       "388   D1478T005  t36       WNT  D1478T\n",
       "...         ...  ...       ...     ...\n",
       "1147  D1478T764  t37       BMP  D1478T\n",
       "1148  D1478T765  t37     MM468  D1478T\n",
       "1149  D1478T766  t37     MM468  D1478T\n",
       "1150  D1478T767  t37     MM468  D1478T\n",
       "1151  D1478T768  t37       Neg  D1478T\n",
       "\n",
       "[768 rows x 4 columns]"
      ]
     },
     "metadata": {},
     "output_type": "display_data"
    },
    {
     "data": {
      "text/plain": [
       "'condition dist'"
      ]
     },
     "metadata": {},
     "output_type": "display_data"
    },
    {
     "data": {
      "text/plain": [
       "condition\n",
       "WNT      384\n",
       "BMP      376\n",
       "MM468      6\n",
       "Neg        2\n",
       "Name: count, dtype: int64"
      ]
     },
     "metadata": {},
     "output_type": "display_data"
    },
    {
     "data": {
      "text/plain": [
       "'time dit      '"
      ]
     },
     "metadata": {},
     "output_type": "display_data"
    },
    {
     "data": {
      "text/plain": [
       "time\n",
       "t36    384\n",
       "t37    384\n",
       "Name: count, dtype: int64"
      ]
     },
     "metadata": {},
     "output_type": "display_data"
    }
   ],
   "source": [
    "sample_information_2_df=sample_information_df[sample_information_df[\"plate\"]==\"D1478T\"]\n",
    "display(\"\",sample_information_2_df)\n",
    "display(\"condition dist\",sample_information_2_df[\"condition\"].value_counts())\n",
    "display(\"time dit      \",sample_information_2_df[\"time\"].value_counts())\n"
   ]
  },
  {
   "cell_type": "code",
   "execution_count": null,
   "metadata": {},
   "outputs": [],
   "source": []
  },
  {
   "cell_type": "code",
   "execution_count": null,
   "metadata": {},
   "outputs": [],
   "source": []
  }
 ],
 "metadata": {
  "kernelspec": {
   "display_name": "Python 3",
   "language": "python",
   "name": "python3"
  },
  "language_info": {
   "codemirror_mode": {
    "name": "ipython",
    "version": 3
   },
   "file_extension": ".py",
   "mimetype": "text/x-python",
   "name": "python",
   "nbconvert_exporter": "python",
   "pygments_lexer": "ipython3",
   "version": "3.13.0"
  }
 },
 "nbformat": 4,
 "nbformat_minor": 2
}
